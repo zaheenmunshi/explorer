{
 "cells": [
  {
   "cell_type": "code",
   "execution_count": 1,
   "id": "38194b9a",
   "metadata": {},
   "outputs": [],
   "source": [
    "import numpy as np\n",
    "import pandas as pd\n",
    "import json"
   ]
  },
  {
   "cell_type": "code",
   "execution_count": 2,
   "id": "3bfd9187",
   "metadata": {},
   "outputs": [],
   "source": [
    "with open('article_containers.json', 'r') as file:\n",
    "    data = json.loads(file.read())"
   ]
  },
  {
   "cell_type": "code",
   "execution_count": 7,
   "id": "07316a47",
   "metadata": {},
   "outputs": [],
   "source": [
    "arr = []"
   ]
  },
  {
   "cell_type": "code",
   "execution_count": 8,
   "id": "f6b8c0fa",
   "metadata": {},
   "outputs": [
    {
     "data": {
      "text/plain": [
       "dict_keys(['_id', 'article_id', 'title', 'article_link', 'source_name', 'source_id', 'scraped_from', 'home_link', 'site_name', 'pub_date', 'scraped_on', 'body', 'images', 'videos', 'tags'])"
      ]
     },
     "execution_count": 8,
     "metadata": {},
     "output_type": "execute_result"
    }
   ],
   "source": [
    "data[2100].keys()"
   ]
  },
  {
   "cell_type": "code",
   "execution_count": 9,
   "id": "d5e86a6b",
   "metadata": {},
   "outputs": [],
   "source": [
    "# [article_id, title, source_name, source_id, home_link, scraped_on, site_name, tags, body, images, videos, article_link]"
   ]
  },
  {
   "cell_type": "code",
   "execution_count": null,
   "id": "8b59bad9",
   "metadata": {},
   "outputs": [],
   "source": [
    "def pack_js(js):\n",
    "    return [js[\"article_id\"], js[\"title\"], js[\"source_name\"], js[\"source_id\"], js[\"home_link\"], js[\"scraped_on\"], js[\"site_name\"],\n",
    "           ]"
   ]
  }
 ],
 "metadata": {
  "kernelspec": {
   "display_name": "Python 3 (ipykernel)",
   "language": "python",
   "name": "python3"
  },
  "language_info": {
   "codemirror_mode": {
    "name": "ipython",
    "version": 3
   },
   "file_extension": ".py",
   "mimetype": "text/x-python",
   "name": "python",
   "nbconvert_exporter": "python",
   "pygments_lexer": "ipython3",
   "version": "3.9.6"
  }
 },
 "nbformat": 4,
 "nbformat_minor": 5
}
