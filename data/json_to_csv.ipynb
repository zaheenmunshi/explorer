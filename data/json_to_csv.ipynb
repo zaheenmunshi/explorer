{
 "cells": [
  {
   "cell_type": "code",
   "execution_count": 1,
   "id": "73b7a110",
   "metadata": {},
   "outputs": [],
   "source": [
    "import numpy as np\n",
    "import pandas as pd\n",
    "import json"
   ]
  },
  {
   "cell_type": "code",
   "execution_count": 2,
   "id": "ffabd2c8",
   "metadata": {},
   "outputs": [],
   "source": [
    "with open('article_containers.json', 'r') as file:\n",
    "    data = json.loads(file.read())"
   ]
  },
  {
   "cell_type": "code",
   "execution_count": 7,
   "id": "fa008d4b",
   "metadata": {},
   "outputs": [],
   "source": [
    "arr = []"
   ]
  },
  {
   "cell_type": "code",
   "execution_count": 8,
   "id": "e280082c",
   "metadata": {},
   "outputs": [
    {
     "data": {
      "text/plain": [
       "dict_keys(['_id', 'article_id', 'title', 'article_link', 'source_name', 'source_id', 'scraped_from', 'home_link', 'site_name', 'pub_date', 'scraped_on', 'body', 'images', 'videos', 'tags'])"
      ]
     },
     "execution_count": 8,
     "metadata": {},
     "output_type": "execute_result"
    }
   ],
   "source": [
    "data[2100].keys()"
   ]
  },
  {
   "cell_type": "code",
   "execution_count": 9,
   "id": "4e2e3d03",
   "metadata": {},
   "outputs": [],
   "source": [
    "# [article_id, title, source_name, source_id, home_link, scraped_on, site_name, tags, body, images, videos, article_link]"
   ]
  },
  {
   "cell_type": "code",
   "execution_count": 15,
   "id": "6ef186a7",
   "metadata": {},
   "outputs": [],
   "source": [
    "def pack_js(js):\n",
    "    return [js[\"article_id\"], js.get(\"title\"), js[\"source_name\"], js[\"source_id\"], js[\"home_link\"], js[\"scraped_on\"][\"$date\"], js[\"site_name\"],\n",
    "           js[\"tags\"], js.get(\"body\"), js[\"images\"], js[\"videos\"], js[\"article_link\"]]"
   ]
  },
  {
   "cell_type": "code",
   "execution_count": 16,
   "id": "7fb381ca",
   "metadata": {},
   "outputs": [],
   "source": [
    "arr = []\n",
    "for article in data:\n",
    "    arr.append(pack_js(article))"
   ]
  },
  {
   "cell_type": "code",
   "execution_count": 19,
   "id": "b548b283",
   "metadata": {},
   "outputs": [],
   "source": [
    "df = pd.DataFrame(arr, columns=['article_id', 'title', 'source_name', 'source_id', 'home_link', 'scraped_on', 'site_name', 'tags', 'body', 'images', 'videos', 'article_link'])"
   ]
  },
  {
   "cell_type": "code",
   "execution_count": 22,
   "id": "1560256a",
   "metadata": {},
   "outputs": [],
   "source": [
    "df.to_csv('article_containers.csv')"
   ]
  },
  {
   "cell_type": "code",
   "execution_count": 23,
   "id": "6e4890d7",
   "metadata": {},
   "outputs": [],
   "source": [
    "del df\n",
    "del arr"
   ]
  },
  {
   "cell_type": "code",
   "execution_count": null,
   "id": "2d4b7ee2",
   "metadata": {},
   "outputs": [],
   "source": []
  }
 ],
 "metadata": {
  "kernelspec": {
   "display_name": "Python 3 (ipykernel)",
   "language": "python",
   "name": "python3"
  },
  "language_info": {
   "codemirror_mode": {
    "name": "ipython",
    "version": 3
   },
   "file_extension": ".py",
   "mimetype": "text/x-python",
   "name": "python",
   "nbconvert_exporter": "python",
   "pygments_lexer": "ipython3",
   "version": "3.9.6"
  }
 },
 "nbformat": 4,
 "nbformat_minor": 5
}
