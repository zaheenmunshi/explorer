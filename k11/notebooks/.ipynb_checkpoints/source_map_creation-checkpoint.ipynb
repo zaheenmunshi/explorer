{
 "cells": [
  {
   "cell_type": "code",
   "execution_count": 1,
   "metadata": {},
   "outputs": [],
   "source": [
    "from datetime import datetime\n",
    "from typing import Dict, List, Optional, Union\n",
    "from k11.models.models import SourceMap, Format, ContentType, LinkStore, ContainerFormat, XMLContainerFormat\n",
    "\n",
    "from secrets import token_urlsafe\n",
    "import pandas as pd\n",
    "from urllib.parse import urlparse\n",
    "from k11.vault import connection_handler\n",
    "from mongoengine import Q\n",
    "\n",
    "connection_handler.mount_mongo_engines()\n"
   ]
  },
  {
   "cell_type": "code",
   "execution_count": 2,
   "metadata": {},
   "outputs": [],
   "source": [
    "def create_map( name: str, home_link: str, formatter: str,links: List[Dict] = [], assumed_tags: str = '',\n",
    "                     compulsory_tags: List[str] = [], is_rss: bool = False, is_collection: bool = True,\n",
    "                     watermarks: List[str] = [], source_id: str = None, datetime_format: str=\"\", is_third_party: bool = False,\n",
    "                     source_locations=[]\n",
    "                      ):\n",
    "                      sm =  SourceMap(source_name=name, source_home_link=home_link,\n",
    "                      source_id=token_urlsafe(16) + \"_\"+ name.lower() if source_id is None else source_id, \n",
    "                      formatter=formatter, assumed_tags=assumed_tags.strip(), links=links,\n",
    "                      compulsory_tags=compulsory_tags, is_collection=is_collection,\n",
    "                      is_rss=is_rss, watermarks=watermarks,\n",
    "                      datetime_format=datetime_format, is_third_party=is_third_party,\n",
    "                      source_locations=source_locations\n",
    "                      )\n",
    "                      sm.save()\n",
    "                      return sm"
   ]
  },
  {
   "cell_type": "code",
   "execution_count": 3,
   "metadata": {},
   "outputs": [],
   "source": [
    "def tag_formatter(tag:str) -> Union[str, None]:\n",
    "        return tag.replace(\"/\",\".\").replace(\" and \", \" \")"
   ]
  },
  {
   "cell_type": "code",
   "execution_count": 4,
   "metadata": {},
   "outputs": [],
   "source": [
    "def get_collection_selector(name, extras = [], defaults= {}):\n",
    "    _defaults = {\"sel\": \"xpath\", \"param\": \"text()\", \"type\": \"text\", \"parent\": name, \"is_multiple\": False, \"is_cdata\": False}\n",
    "    _defaults.update(defaults)\n",
    "    data = {}\n",
    "    for key in ['sel', 'param', 'parent', 'type', 'is_multiple', \"is_cdata\"] + extras:\n",
    "        value = input(f\"Please enter {key} value for {name}: \")\n",
    "        if value == \"\" or value == \" \" and key in _defaults:\n",
    "            data[key] = _defaults[key]\n",
    "        else:\n",
    "            data[key] = value\n",
    "            if isinstance(_defaults[key], bool):\n",
    "                data[key] = bool(value)\n",
    "    return data\n"
   ]
  },
  {
   "cell_type": "code",
   "execution_count": 5,
   "metadata": {},
   "outputs": [],
   "source": [
    "def is_quit_param(txt):\n",
    "    return txt.lower() == \"q\" or txt == \"\" or txt == \" \" or txt.lower() == \"quit\""
   ]
  },
  {
   "cell_type": "code",
   "execution_count": 6,
   "metadata": {},
   "outputs": [],
   "source": [
    "def _create_collection_format():\n",
    "    data = {}\n",
    "    # is_xml = input('Enter x for xml_collection_format or h for html_collection_format: ').lower() == 'x'\n",
    "    itertag = input('Enter itertag for this selector: ')\n",
    "    if itertag != '' or itertag != \" \":\n",
    "        data['itertag'] = itertag\n",
    "    data['title'] = get_collection_selector('title')\n",
    "    data['link'] = get_collection_selector('link')\n",
    "    data['creator'] = get_collection_selector('creator')\n",
    "    while True:\n",
    "        sec_act = input(\"Enter name for new selector or type 'q' quit for exiting: \")\n",
    "        if is_quit_param(sec_act):\n",
    "            break\n",
    "        else:\n",
    "            data[sec_act] = get_collection_selector(sec_act)\n",
    "    return data\n",
    "\n",
    "\n"
   ]
  },
  {
   "cell_type": "code",
   "execution_count": 7,
   "metadata": {},
   "outputs": [],
   "source": [
    "def create_collection_format(name, format_):\n",
    "    data = _create_collection_format()\n",
    "    Format.objects(format_id=format_.format_id).update_one(**{f\"set__{name}\": data})\n",
    "    setattr(format_, name, data)\n",
    "    return format_\n"
   ]
  },
  {
   "cell_type": "code",
   "execution_count": 8,
   "metadata": {},
   "outputs": [],
   "source": [
    "def get_container_identity():\n",
    "    data = {}\n",
    "    data['param'] = input(\"Enter param for container identity: \")\n",
    "    data['is_multiple'] = input(\"Is this identity for multiple items y/n: \").lower() == \"y\"\n",
    "    data['content_type'] = input('Enter content-type for the identity a for article, i for image, v for video: ')\n",
    "    cmap = {'a': 'article', 'i': 'image', 'v': 'video'}\n",
    "    data['content_type'] = cmap[data['content_type']] if data['content_type'] != \"\" else cmap['a']\n",
    "    data['is_bakeable'] = input('Is this identity contains multiple articles y/n: ').lower() == \"y\"\n",
    "    title_selectors = []\n",
    "    while True:\n",
    "        action = input('Enter title selector or \"q\" for quit: ')\n",
    "        if is_quit_param(action):\n",
    "            break\n",
    "        else:\n",
    "            title_selectors.append(action)\n",
    "    creator_selectors = []\n",
    "    while True:\n",
    "        action = input('Enter creator selector or \"q\" for quit: ')\n",
    "        if is_quit_param(action):\n",
    "            break\n",
    "        else:\n",
    "            creator_selectors.append(action)\n",
    "    body_selectors = []\n",
    "    while True:\n",
    "        action = input('Enter body selector or \"q\" for quit: ')\n",
    "        if is_quit_param(action):\n",
    "            break\n",
    "        else:\n",
    "            body_selectors.append(action)\n",
    "    return data, title_selectors, creator_selectors, body_selectors"
   ]
  },
  {
   "cell_type": "code",
   "execution_count": 9,
   "metadata": {},
   "outputs": [],
   "source": [
    "def get_query_selector():\n",
    "    data = {}\n",
    "    for key in ['tag', 'id', 'class_list', 'exact_class']:\n",
    "        value = input(f'Enter {key} for query: ')\n",
    "        if key == \"class_list\" and len(value) > 0:\n",
    "            data[key] = value.split(\" \")\n",
    "        elif len(value) > 0 and value != \" \":\n",
    "            data[key] = value\n",
    "    return data\n"
   ]
  },
  {
   "cell_type": "code",
   "execution_count": 10,
   "metadata": {},
   "outputs": [],
   "source": [
    "def _create_container_format():\n",
    "    data = {}\n",
    "    data['idens'] = []\n",
    "    data['title_selectors'] = []\n",
    "    data['creator_selectors'] = []\n",
    "    data['body_selectors'] = []\n",
    "    data['ignorables'] = []\n",
    "    while True:\n",
    "        action = input('Enter a for adding new identity, q for quit: ')\n",
    "        if is_quit_param(action):\n",
    "            break\n",
    "        iden, title_selectors, creator_selectors, body_selectors = get_container_identity()\n",
    "        data['title_selectors'] += title_selectors\n",
    "        data['creator_selectors'] += creator_selectors\n",
    "        data['body_selectors'] += body_selectors\n",
    "        while True:\n",
    "            action = input('Enter a for adding new ignorable, q for quit: ')\n",
    "            if is_quit_param(action):\n",
    "                break\n",
    "            else:\n",
    "                data['ignorables'].append(get_query_selector())\n",
    "        data['idens'].append(iden)\n",
    "    data['title_selectors'] = list(set(data['title_selectors']))\n",
    "    data['creator_selectors'] = list(set(data['creator_selectors']))\n",
    "    data['body_selectors'] = list(set(data['body_selectors']))\n",
    "    return data\n",
    "    \n",
    "\n"
   ]
  },
  {
   "cell_type": "code",
   "execution_count": 11,
   "metadata": {},
   "outputs": [],
   "source": [
    "def create_html_container_format(format_):\n",
    "    data = _create_container_format()\n",
    "    Format.objects(format_id=format_.format_id).update_one(html_article_format=data)\n",
    "    format_.html_article_format = data\n",
    "    return format_\n",
    "\n"
   ]
  },
  {
   "cell_type": "code",
   "execution_count": 12,
   "metadata": {},
   "outputs": [],
   "source": [
    "def create_extra_format(format_):\n",
    "    extra_format = {}\n",
    "    if hasattr(format_, \"extra_formats\") and format_.extra_formats is not None:\n",
    "        extra_format = format_.extra_formats\n",
    "    while True:\n",
    "        action = input('Enter c for adding new collection format and a for adding article format, q for quit: ')\n",
    "        if is_quit_param(action):\n",
    "            break\n",
    "        else:\n",
    "            name = input(\"Enter name for the format: \")\n",
    "            if is_quit_param(name):\n",
    "                break\n",
    "            if action.lower() == \"c\":\n",
    "                data = _create_collection_format()\n",
    "                extra_format[name] = data\n",
    "            elif action.lower() == \"a\":\n",
    "                data = _create_container_format()\n",
    "                extra_format[name] = data\n",
    "    Format.objects(format_id=format_.format_id).update_one(extra_formats= extra_format)\n",
    "    format_.extra_formats = extra_format\n",
    "    return format_\n",
    "\n",
    "                \n"
   ]
  },
  {
   "cell_type": "code",
   "execution_count": 13,
   "metadata": {},
   "outputs": [],
   "source": [
    "def create_xml_container_format(format_):\n",
    "    data = {}\n",
    "    ct = input('Enter content-type for format a for article, i for image, v for video: ')\n",
    "    cmap = {\"a\": \"article\", \"i\": \"image\", \"v\": \"video\"}\n",
    "    data['content_type'] = cmap[ct] if ct != \"\" or ct != \" \" else cmap['a']\n",
    "    data['struct']= _create_container_format()\n",
    "    Format.objects(format_id=format_.format_id).update_one(xml_article_format=data)\n",
    "    format_.xml_article_format = data\n",
    "    return format_\n"
   ]
  },
  {
   "cell_type": "code",
   "execution_count": 14,
   "metadata": {},
   "outputs": [],
   "source": [
    "def create_format( **kwargs ):\n",
    "    if \"xml_article_format\" not in kwargs:\n",
    "        kwargs[\"xml_article_forma\"]\n",
    "    fm = Format(**kwargs)\n",
    "    fm.save()\n",
    "    return fm"
   ]
  },
  {
   "cell_type": "code",
   "execution_count": 15,
   "metadata": {},
   "outputs": [
    {
     "name": "stdout",
     "output_type": "stream",
     "text": [
      "() {'fields': ['id']}\n",
      "() {}\n"
     ]
    },
    {
     "data": {
      "text/plain": [
       "<Format: Format object>"
      ]
     },
     "execution_count": 15,
     "metadata": {},
     "output_type": "execute_result"
    }
   ],
   "source": [
    "create_format(source_name=\"asnfjd\", format_id=\"sadfhjksgh\", source_home_link=\"dsfjhkfjdg\", \n",
    "xml_article_format = XMLContainerFormat(struct=None, content_type=None),\n",
    "html_article_format = ContainerFormat(idens=[]) )"
   ]
  },
  {
   "cell_type": "code",
   "execution_count": 34,
   "metadata": {},
   "outputs": [],
   "source": [
    "def print_all_formats(format_):\n",
    "    keys = ['xml_collection_format', 'html_collection_format', 'html_article_format', 'xml_article_format']\n",
    "    format_keys= [] \n",
    "    for key in keys:\n",
    "        if hasattr(format_, key) and getattr(format_, key) is not None:\n",
    "            format_keys.append(key)\n",
    "    if hasattr(format_, \"extra_formats\") and format_.extra_formats is not None:\n",
    "        format_keys += list(format_.extra_formats.keys())\n",
    "    for index, key in enumerate(format_keys):\n",
    "        print(index, \". \", key,\"\\n\")\n",
    "    print(\"\\n\"*2)\n",
    "    return format_keys\n"
   ]
  },
  {
   "cell_type": "code",
   "execution_count": 49,
   "metadata": {},
   "outputs": [],
   "source": [
    "def interactive_format_prompt(source_name, source_id, source_home_link, formatter = None):\n",
    "    formats = Format.objects(source_home_link= source_home_link)\n",
    "    if formats.count() == 0:\n",
    "        format_ = create_format(source_name, source_id, source_home_link)\n",
    "    else:\n",
    "        format_ = formats.get()\n",
    "    while True:\n",
    "        keys = print_all_formats(format_)\n",
    "        kmap = {'xml_collection_format': 'xc', 'html_collection_format': 'hc', 'html_article_format': 'ha', 'xml_article_format': 'xa', 'extra_formats': 'e'}\n",
    "        prompt = \"Please press \"\n",
    "        for key in kmap.keys():\n",
    "            if key not in keys:\n",
    "                prompt += f\"{kmap[key]} for {key}, \"\n",
    "        prompt +=\", 'q' for quit: \"\n",
    "        action = input(prompt)\n",
    "        if is_quit_param(action):\n",
    "            break\n",
    "        elif action.lower() == 'xc':\n",
    "            format_ = create_collection_format('xml_collection_format', format_)\n",
    "        elif action.lower() == 'hc':\n",
    "            format_ = create_collection_format('html_collection_format', format_)\n",
    "        elif action.lower() == 'ha':\n",
    "            format_ = create_html_container_format(format_)\n",
    "        elif action.lower() == 'xa':\n",
    "            format_ = create_xml_container_format(format_)\n",
    "        elif action.lower() == 'e':\n",
    "            format_ = create_extra_format(format_)\n",
    "    keys = print_all_formats(format_)\n",
    "    action = input(\"Enter index number for selecting the formatter, or q for quit: \")\n",
    "    ask_for_default_formatter = input('Do you want to set this formatter as default for source y/n: ').lower() == \"y\"\n",
    "    if ( not is_quit_param(action)) and action.isdigit():\n",
    "        formatter = keys[int(action)]        \n",
    "    return formatter, ask_for_default_formatter\n",
    "\n",
    "    \n",
    "    \n",
    "    \n",
    "    \n",
    "        \n",
    "\n",
    "    \n",
    "    \n"
   ]
  },
  {
   "cell_type": "code",
   "execution_count": null,
   "metadata": {},
   "outputs": [],
   "source": []
  },
  {
   "cell_type": "code",
   "execution_count": 50,
   "metadata": {},
   "outputs": [],
   "source": [
    "def _create_source_map(category, source_name, link, rss = 'FALSE', third_party_rss=False, wild_card_link:bool = False):\n",
    "    is_rss = rss is not None and len(rss) > 0 and rss.upper() != \"FALSE\"\n",
    "    url = rss if is_rss else link\n",
    "    assumed_tags=  tag_formatter(category)\n",
    "    compulsory_tags = input(\"Enter compulsory tags for \\n\" + url)\n",
    "    compulsory_tags = tag_formatter(compulsory_tags)\n",
    "    if compulsory_tags == \"q\":\n",
    "        return None\n",
    "    compulsory_tags = compulsory_tags.split(\" \")\n",
    "    watermarks = input(\"Enter watermarks for \\n\" + url).split(\" \")\n",
    "    content_type = input(\"Content type of this url a for articles, i for images and v for videos: \")\n",
    "    is_link_multiple = input(\"is link contains articles directly y/n: \").lower() == \"y\"\n",
    "    if content_type == \"i\":\n",
    "        content_type = ContentType.Image\n",
    "    elif content_type == \"v\":\n",
    "        content_type = ContentType.Video\n",
    "    else:\n",
    "        content_type = ContentType.Article\n",
    "    home_url = link if is_rss and third_party_rss else url\n",
    "    url_parse = urlparse(home_url)\n",
    "    source_home_link = url_parse.scheme +\"://\" + url_parse.netloc\n",
    "    source_maps = SourceMap.objects(Q(source_home_link=source_home_link) & Q(is_rss=is_rss))\n",
    "    if source_maps.count() > 0:\n",
    "        source_map = source_maps.get()\n",
    "    else:\n",
    "        source_map = None\n",
    "\n",
    "    source_map_compulsory_tags = source_map.compulsory_tags if source_map is not None and source_map.compulsory_tags is not None else []\n",
    "    source_map_assumed_tags = source_map.assumed_tags if source_map is not None and source_map.assumed_tags is not None else \"\"\n",
    "    source_map_assumed_tags += \" \" + assumed_tags\n",
    "    source_map_watermarks = source_map.watermarks if source_map is not None and source_map.watermarks is not None else []\n",
    "    source_map_watermarks += watermarks\n",
    "\n",
    "    if len(compulsory_tags) > 0:\n",
    "            compulsory_tags_action = input(\"Enter a for append, r for replace and l for leave: \")\n",
    "            if compulsory_tags_action.lower() == \"a\":\n",
    "                source_map_compulsory_tags += compulsory_tags\n",
    "                source_map_compulsory_tags = list(set(source_map_compulsory_tags))\n",
    "            elif compulsory_tags_action.lower() == \"r\":\n",
    "                source_map_compulsory_tags = compulsory_tags\n",
    "    if source_map is None:\n",
    "            is_collection = input(\"Is the source a collection y/n: \").lower() == \"y\"\n",
    "            source_locs = input(\"Enter source locations. \")\n",
    "            source_map = create_map(name=source_name, source_id=token_urlsafe(16)+ \"_\" + source_name.lower(),\n",
    "                                        formatter=None,assumed_tags=source_map_assumed_tags, compulsory_tags=source_map_compulsory_tags,\n",
    "                                        home_link=source_home_link, watermarks=source_map_watermarks, is_rss=is_rss,is_collection=is_collection,\n",
    "                                        source_locations=source_locs.split(\" \")            \n",
    "            )\n",
    "    formatter, is_update_default_formatter = interactive_format_prompt(source_map.source_name, source_map.source_id, source_map.source_home_link, formatter=source_map.formatter)\n",
    "    if is_update_default_formatter:\n",
    "        SourceMap.objects(source_id=source_map.source_id).update_one(set__formatter= formatter)\n",
    "        source_map.formatter = formatter\n",
    "    if source_map.links is None:\n",
    "        source_map.links = []\n",
    "    source_map.links.append(LinkStore(link=url, assumed_tags=assumed_tags,\n",
    "                                     compulsory_tags=compulsory_tags if len(compulsory_tags) == 0 else None,\n",
    "                                     content_type=content_type,\n",
    "                                     is_multiple=is_link_multiple,\n",
    "                                     formatter=formatter))\n",
    "    SourceMap.objects(source_id = source_map.source_id).update_one(set__links=[link.to_dict() for link in source_map.links], set__compulsory_tags=list(set(source_map_compulsory_tags)))\n",
    "    return source_map.reload() \n",
    "\n",
    "    \n",
    "    \n",
    "    "
   ]
  },
  {
   "cell_type": "code",
   "execution_count": 51,
   "metadata": {},
   "outputs": [
    {
     "ename": "Exception",
     "evalue": "",
     "output_type": "error",
     "traceback": [
      "\u001b[0;31m---------------------------------------------------------------------------\u001b[0m",
      "\u001b[0;31mException\u001b[0m                                 Traceback (most recent call last)",
      "\u001b[0;32m/tmp/ipykernel_51953/3934906571.py\u001b[0m in \u001b[0;36m<module>\u001b[0;34m\u001b[0m\n\u001b[0;32m----> 1\u001b[0;31m \u001b[0;32mraise\u001b[0m  \u001b[0mException\u001b[0m\u001b[0;34m(\u001b[0m\u001b[0;34m)\u001b[0m\u001b[0;34m\u001b[0m\u001b[0;34m\u001b[0m\u001b[0m\n\u001b[0m",
      "\u001b[0;31mException\u001b[0m: "
     ]
    }
   ],
   "source": [
    "raise  Exception()"
   ]
  },
  {
   "cell_type": "code",
   "execution_count": 52,
   "metadata": {},
   "outputs": [],
   "source": [
    "category = \"womens_fashion\"\n",
    "source_name=\"The Fashion Spot\"\n",
    "link = \"https://screenrant.com/\"\n",
    "rss=\"https://www.thefashionspot.com/style-trends/feed/\"\n",
    "third_party = False"
   ]
  },
  {
   "cell_type": "code",
   "execution_count": 53,
   "metadata": {},
   "outputs": [
    {
     "ename": "TypeError",
     "evalue": "to_mongo() missing 1 required positional argument: 'fields'",
     "output_type": "error",
     "traceback": [
      "\u001b[0;31m---------------------------------------------------------------------------\u001b[0m",
      "\u001b[0;31mTypeError\u001b[0m                                 Traceback (most recent call last)",
      "\u001b[0;32m/tmp/ipykernel_51953/111245818.py\u001b[0m in \u001b[0;36m<module>\u001b[0;34m\u001b[0m\n\u001b[0;32m----> 1\u001b[0;31m \u001b[0m_create_source_map\u001b[0m\u001b[0;34m(\u001b[0m\u001b[0mcategory\u001b[0m\u001b[0;34m=\u001b[0m\u001b[0mcategory\u001b[0m\u001b[0;34m,\u001b[0m \u001b[0msource_name\u001b[0m\u001b[0;34m=\u001b[0m\u001b[0msource_name\u001b[0m\u001b[0;34m,\u001b[0m \u001b[0mlink\u001b[0m\u001b[0;34m=\u001b[0m\u001b[0mlink\u001b[0m\u001b[0;34m,\u001b[0m \u001b[0mrss\u001b[0m\u001b[0;34m=\u001b[0m\u001b[0mrss\u001b[0m\u001b[0;34m,\u001b[0m \u001b[0mthird_party_rss\u001b[0m\u001b[0;34m=\u001b[0m\u001b[0mthird_party\u001b[0m\u001b[0;34m)\u001b[0m\u001b[0;34m\u001b[0m\u001b[0;34m\u001b[0m\u001b[0m\n\u001b[0m",
      "\u001b[0;32m/tmp/ipykernel_51953/2903470544.py\u001b[0m in \u001b[0;36m_create_source_map\u001b[0;34m(category, source_name, link, rss, third_party_rss, wild_card_link)\u001b[0m\n\u001b[1;32m     47\u001b[0m                                         \u001b[0msource_locations\u001b[0m\u001b[0;34m=\u001b[0m\u001b[0msource_locs\u001b[0m\u001b[0;34m.\u001b[0m\u001b[0msplit\u001b[0m\u001b[0;34m(\u001b[0m\u001b[0;34m\" \"\u001b[0m\u001b[0;34m)\u001b[0m\u001b[0;34m\u001b[0m\u001b[0;34m\u001b[0m\u001b[0m\n\u001b[1;32m     48\u001b[0m             )\n\u001b[0;32m---> 49\u001b[0;31m     \u001b[0mformatter\u001b[0m\u001b[0;34m,\u001b[0m \u001b[0mis_update_default_formatter\u001b[0m \u001b[0;34m=\u001b[0m \u001b[0minteractive_format_prompt\u001b[0m\u001b[0;34m(\u001b[0m\u001b[0msource_map\u001b[0m\u001b[0;34m.\u001b[0m\u001b[0msource_name\u001b[0m\u001b[0;34m,\u001b[0m \u001b[0msource_map\u001b[0m\u001b[0;34m.\u001b[0m\u001b[0msource_id\u001b[0m\u001b[0;34m,\u001b[0m \u001b[0msource_map\u001b[0m\u001b[0;34m.\u001b[0m\u001b[0msource_home_link\u001b[0m\u001b[0;34m,\u001b[0m \u001b[0mformatter\u001b[0m\u001b[0;34m=\u001b[0m\u001b[0msource_map\u001b[0m\u001b[0;34m.\u001b[0m\u001b[0mformatter\u001b[0m\u001b[0;34m)\u001b[0m\u001b[0;34m\u001b[0m\u001b[0;34m\u001b[0m\u001b[0m\n\u001b[0m\u001b[1;32m     50\u001b[0m     \u001b[0;32mif\u001b[0m \u001b[0mis_update_default_formatter\u001b[0m\u001b[0;34m:\u001b[0m\u001b[0;34m\u001b[0m\u001b[0;34m\u001b[0m\u001b[0m\n\u001b[1;32m     51\u001b[0m         \u001b[0mSourceMap\u001b[0m\u001b[0;34m.\u001b[0m\u001b[0mobjects\u001b[0m\u001b[0;34m(\u001b[0m\u001b[0msource_id\u001b[0m\u001b[0;34m=\u001b[0m\u001b[0msource_map\u001b[0m\u001b[0;34m.\u001b[0m\u001b[0msource_id\u001b[0m\u001b[0;34m)\u001b[0m\u001b[0;34m.\u001b[0m\u001b[0mupdate_one\u001b[0m\u001b[0;34m(\u001b[0m\u001b[0mset__formatter\u001b[0m\u001b[0;34m=\u001b[0m \u001b[0mformatter\u001b[0m\u001b[0;34m)\u001b[0m\u001b[0;34m\u001b[0m\u001b[0;34m\u001b[0m\u001b[0m\n",
      "\u001b[0;32m/tmp/ipykernel_51953/2251975342.py\u001b[0m in \u001b[0;36minteractive_format_prompt\u001b[0;34m(source_name, source_id, source_home_link, formatter)\u001b[0m\n\u001b[1;32m      2\u001b[0m     \u001b[0mformats\u001b[0m \u001b[0;34m=\u001b[0m \u001b[0mFormat\u001b[0m\u001b[0;34m.\u001b[0m\u001b[0mobjects\u001b[0m\u001b[0;34m(\u001b[0m\u001b[0msource_home_link\u001b[0m\u001b[0;34m=\u001b[0m \u001b[0msource_home_link\u001b[0m\u001b[0;34m)\u001b[0m\u001b[0;34m\u001b[0m\u001b[0;34m\u001b[0m\u001b[0m\n\u001b[1;32m      3\u001b[0m     \u001b[0;32mif\u001b[0m \u001b[0mformats\u001b[0m\u001b[0;34m.\u001b[0m\u001b[0mcount\u001b[0m\u001b[0;34m(\u001b[0m\u001b[0;34m)\u001b[0m \u001b[0;34m==\u001b[0m \u001b[0;36m0\u001b[0m\u001b[0;34m:\u001b[0m\u001b[0;34m\u001b[0m\u001b[0;34m\u001b[0m\u001b[0m\n\u001b[0;32m----> 4\u001b[0;31m         \u001b[0mformat_\u001b[0m \u001b[0;34m=\u001b[0m \u001b[0mcreate_format\u001b[0m\u001b[0;34m(\u001b[0m\u001b[0msource_name\u001b[0m\u001b[0;34m,\u001b[0m \u001b[0msource_id\u001b[0m\u001b[0;34m,\u001b[0m \u001b[0msource_home_link\u001b[0m\u001b[0;34m)\u001b[0m\u001b[0;34m\u001b[0m\u001b[0;34m\u001b[0m\u001b[0m\n\u001b[0m\u001b[1;32m      5\u001b[0m     \u001b[0;32melse\u001b[0m\u001b[0;34m:\u001b[0m\u001b[0;34m\u001b[0m\u001b[0;34m\u001b[0m\u001b[0m\n\u001b[1;32m      6\u001b[0m         \u001b[0mformat_\u001b[0m \u001b[0;34m=\u001b[0m \u001b[0mformats\u001b[0m\u001b[0;34m.\u001b[0m\u001b[0mget\u001b[0m\u001b[0;34m(\u001b[0m\u001b[0;34m)\u001b[0m\u001b[0;34m\u001b[0m\u001b[0;34m\u001b[0m\u001b[0m\n",
      "\u001b[0;32m/tmp/ipykernel_51953/1658865930.py\u001b[0m in \u001b[0;36mcreate_format\u001b[0;34m(name, format_id, source_home_link, created_on)\u001b[0m\n\u001b[1;32m      5\u001b[0m                             \u001b[0mcreated_on\u001b[0m\u001b[0;34m=\u001b[0m\u001b[0mcreated_on\u001b[0m\u001b[0;34m\u001b[0m\u001b[0;34m\u001b[0m\u001b[0m\n\u001b[1;32m      6\u001b[0m                             )\n\u001b[0;32m----> 7\u001b[0;31m                             \u001b[0mfm\u001b[0m\u001b[0;34m.\u001b[0m\u001b[0msave\u001b[0m\u001b[0;34m(\u001b[0m\u001b[0;34m)\u001b[0m\u001b[0;34m\u001b[0m\u001b[0;34m\u001b[0m\u001b[0m\n\u001b[0m\u001b[1;32m      8\u001b[0m                             \u001b[0;32mreturn\u001b[0m \u001b[0mfm\u001b[0m\u001b[0;34m\u001b[0m\u001b[0;34m\u001b[0m\u001b[0m\n",
      "\u001b[0;32m~/Desktop/k11/lib/python3.9/site-packages/mongoengine/document.py\u001b[0m in \u001b[0;36msave\u001b[0;34m(self, force_insert, validate, clean, write_concern, cascade, cascade_kwargs, _refs, save_condition, signal_kwargs, **kwargs)\u001b[0m\n\u001b[1;32m    397\u001b[0m         )\n\u001b[1;32m    398\u001b[0m         \u001b[0;31m# it might be refreshed by the pre_save_post_validation hook, e.g., for etag generation\u001b[0m\u001b[0;34m\u001b[0m\u001b[0;34m\u001b[0m\u001b[0;34m\u001b[0m\u001b[0m\n\u001b[0;32m--> 399\u001b[0;31m         \u001b[0mdoc\u001b[0m \u001b[0;34m=\u001b[0m \u001b[0mself\u001b[0m\u001b[0;34m.\u001b[0m\u001b[0mto_mongo\u001b[0m\u001b[0;34m(\u001b[0m\u001b[0;34m)\u001b[0m\u001b[0;34m\u001b[0m\u001b[0;34m\u001b[0m\u001b[0m\n\u001b[0m\u001b[1;32m    400\u001b[0m \u001b[0;34m\u001b[0m\u001b[0m\n\u001b[1;32m    401\u001b[0m         \u001b[0;32mif\u001b[0m \u001b[0mself\u001b[0m\u001b[0;34m.\u001b[0m\u001b[0m_meta\u001b[0m\u001b[0;34m.\u001b[0m\u001b[0mget\u001b[0m\u001b[0;34m(\u001b[0m\u001b[0;34m\"auto_create_index\"\u001b[0m\u001b[0;34m,\u001b[0m \u001b[0;32mTrue\u001b[0m\u001b[0;34m)\u001b[0m\u001b[0;34m:\u001b[0m\u001b[0;34m\u001b[0m\u001b[0;34m\u001b[0m\u001b[0m\n",
      "\u001b[0;32m~/Desktop/k11/lib/python3.9/site-packages/mongoengine/document.py\u001b[0m in \u001b[0;36mto_mongo\u001b[0;34m(self, *args, **kwargs)\u001b[0m\n\u001b[1;32m    265\u001b[0m \u001b[0;34m\u001b[0m\u001b[0m\n\u001b[1;32m    266\u001b[0m     \u001b[0;32mdef\u001b[0m \u001b[0mto_mongo\u001b[0m\u001b[0;34m(\u001b[0m\u001b[0mself\u001b[0m\u001b[0;34m,\u001b[0m \u001b[0;34m*\u001b[0m\u001b[0margs\u001b[0m\u001b[0;34m,\u001b[0m \u001b[0;34m**\u001b[0m\u001b[0mkwargs\u001b[0m\u001b[0;34m)\u001b[0m\u001b[0;34m:\u001b[0m\u001b[0;34m\u001b[0m\u001b[0;34m\u001b[0m\u001b[0m\n\u001b[0;32m--> 267\u001b[0;31m         \u001b[0mdata\u001b[0m \u001b[0;34m=\u001b[0m \u001b[0msuper\u001b[0m\u001b[0;34m(\u001b[0m\u001b[0;34m)\u001b[0m\u001b[0;34m.\u001b[0m\u001b[0mto_mongo\u001b[0m\u001b[0;34m(\u001b[0m\u001b[0;34m*\u001b[0m\u001b[0margs\u001b[0m\u001b[0;34m,\u001b[0m \u001b[0;34m**\u001b[0m\u001b[0mkwargs\u001b[0m\u001b[0;34m)\u001b[0m\u001b[0;34m\u001b[0m\u001b[0;34m\u001b[0m\u001b[0m\n\u001b[0m\u001b[1;32m    268\u001b[0m \u001b[0;34m\u001b[0m\u001b[0m\n\u001b[1;32m    269\u001b[0m         \u001b[0;31m# If '_id' is None, try and set it from self._data. If that\u001b[0m\u001b[0;34m\u001b[0m\u001b[0;34m\u001b[0m\u001b[0;34m\u001b[0m\u001b[0m\n",
      "\u001b[0;32m~/Desktop/k11/lib/python3.9/site-packages/mongoengine/base/document.py\u001b[0m in \u001b[0;36mto_mongo\u001b[0;34m(self, use_db_field, fields)\u001b[0m\n\u001b[1;32m    359\u001b[0m                     \u001b[0mex_vars\u001b[0m\u001b[0;34m[\u001b[0m\u001b[0;34m\"use_db_field\"\u001b[0m\u001b[0;34m]\u001b[0m \u001b[0;34m=\u001b[0m \u001b[0muse_db_field\u001b[0m\u001b[0;34m\u001b[0m\u001b[0;34m\u001b[0m\u001b[0m\n\u001b[1;32m    360\u001b[0m \u001b[0;34m\u001b[0m\u001b[0m\n\u001b[0;32m--> 361\u001b[0;31m                 \u001b[0mvalue\u001b[0m \u001b[0;34m=\u001b[0m \u001b[0mfield\u001b[0m\u001b[0;34m.\u001b[0m\u001b[0mto_mongo\u001b[0m\u001b[0;34m(\u001b[0m\u001b[0mvalue\u001b[0m\u001b[0;34m,\u001b[0m \u001b[0;34m**\u001b[0m\u001b[0mex_vars\u001b[0m\u001b[0;34m)\u001b[0m\u001b[0;34m\u001b[0m\u001b[0;34m\u001b[0m\u001b[0m\n\u001b[0m\u001b[1;32m    362\u001b[0m \u001b[0;34m\u001b[0m\u001b[0m\n\u001b[1;32m    363\u001b[0m             \u001b[0;31m# Handle self generating fields\u001b[0m\u001b[0;34m\u001b[0m\u001b[0;34m\u001b[0m\u001b[0;34m\u001b[0m\u001b[0m\n",
      "\u001b[0;31mTypeError\u001b[0m: to_mongo() missing 1 required positional argument: 'fields'"
     ]
    }
   ],
   "source": [
    "_create_source_map(category=category, source_name=source_name, link=link, rss=rss, third_party_rss=third_party)"
   ]
  },
  {
   "cell_type": "code",
   "execution_count": null,
   "metadata": {},
   "outputs": [],
   "source": []
  },
  {
   "cell_type": "code",
   "execution_count": null,
   "metadata": {},
   "outputs": [],
   "source": [
    "raise Exception()"
   ]
  },
  {
   "cell_type": "code",
   "execution_count": null,
   "metadata": {},
   "outputs": [],
   "source": []
  },
  {
   "cell_type": "code",
   "execution_count": 38,
   "metadata": {},
   "outputs": [],
   "source": [
    "def create_youtube_source(link, category):\n",
    "    url = urlparse(link)\n",
    "    channel_id = url.path.replace(\"/channel\",\"\").replace(\"/videos\", \"\").replace(\"/\",\"\")\n",
    "    youtube_sources = SourceMap.objects(Q(source_id= \"youtube\") &Q(is_third_party= True))\n",
    "    if not youtube_sources.exists():\n",
    "        youtube_source = SourceMap.objects.insert([SourceMap(source_name=\"YouTube\", source_id=\"youtube\", source_home_link=\"https://www.youtube.com/\", is_third_party=True, is_collection=False, is_rss=False, links=[], formatter=None, assumed_tags=\"\", compulsory_tags=[])])\n",
    "    else:\n",
    "        youtube_source = youtube_sources.get()\n",
    "    assumed_tags = category\n",
    "    compulsory_tags = input(\"Enter compulsory tags \")\n",
    "    if compulsory_tags == \"\":\n",
    "        compulsory_tags = []\n",
    "    else:\n",
    "        compulsory_tags = compulsory_tags.split(\" \")\n",
    "    ctag_action = input(\"Press a for append, r for replace and l for leave, for action on compulsory_tags\")\n",
    "    if ctag_action.lower() == \"a\":\n",
    "        youtube_source.compulsory_tags += compulsory_tags\n",
    "    elif ctag_action.lower() == \"r\":\n",
    "        youtube_source.compulsory_tags = compulsory_tags\n",
    "    link_store = LinkStore(link=channel_id, assumed_tags=tag_formatter(assumed_tags), content_type=ContentType.Video, is_multiple=True, compulsory_tags=compulsory_tags)\n",
    "    youtube_source.links.append(link_store)\n",
    "    youtube_source.compulsory_tags = list(set(youtube_source.compulsory_tags))\n",
    "    youtube_source.save()\n",
    "    return youtube_source\n",
    "\n",
    "\n",
    "\n",
    "\n",
    "\n"
   ]
  },
  {
   "cell_type": "code",
   "execution_count": 109,
   "metadata": {},
   "outputs": [],
   "source": [
    "category = \"food__drink.food food__drink.food_allergy food__drink.vegan__vegetarian travel\"\n",
    "c_id = \"UCg4_1iEPv3IlgTvJh2IZAjQ\"\n",
    "link = f\"UCjHEskdNIvQlCtKAJRH_QWQ\""
   ]
  },
  {
   "cell_type": "code",
   "execution_count": 110,
   "metadata": {},
   "outputs": [
    {
     "data": {
      "text/plain": [
       "SourceMap(source_name='YouTube', source_id='youtube', source_home_link='https://www.youtube.com/', assumed_tags='', compulsory_tags=['science/social_science/history'], is_rss=False, is_collection=False, links=[LinkStore(link='UCKSVUHI9rbbkXhvAXK-2uxA', assumed_tags='automotive__vehicles/cars/luxury_cars', formatter=None, compulsory_tags=['cars', 'luxury_cars'], content_type='video', is_multiple=True), LinkStore(link='UC21Kozr_K0yDM-VjoihG9Aw', assumed_tags='automotive__vehicles/cars/luxury_cars', formatter=None, compulsory_tags=['cars', 'luxury_cars'], content_type='video', is_multiple=True), LinkStore(link='UCj_ARBxhCoF5JxUItcEUs7Q', assumed_tags='automotive__vehicles/cars/luxury_cars', formatter=None, compulsory_tags=['cars'], content_type='video', is_multiple=True), LinkStore(link='UCUpC8yomtIEfrTXLjk-wAmw', assumed_tags='automotive__vehicles/cars/luxury_cars', formatter=None, compulsory_tags=['cars', 'luxury_cars'], content_type='video', is_multiple=True), LinkStore(link='UCIRgR4iANHI2taJdz8hjwLw', assumed_tags='automotive__vehicles/cars/luxury_cars', formatter=None, compulsory_tags=['cars', 'luxury_cars'], content_type='video', is_multiple=True), LinkStore(link='UCM1b28KhIZfF1-gYFkCiTAQ', assumed_tags='automotive__vehicles/cars/luxury_cars', formatter=None, compulsory_tags=['cars', 'luxury_cars'], content_type='video', is_multiple=True), LinkStore(link='UCwn0jaGbgMkYioOWBzMog1Q', assumed_tags='automotive__vehicles/cars/luxury_cars', formatter=None, compulsory_tags=['cars', 'luxury_cars'], content_type='video', is_multiple=True), LinkStore(link='UCyoSWGYKkusssZWzRrsX4RA', assumed_tags='automotive__vehicles/cars/luxury_cars', formatter=None, compulsory_tags=[], content_type='video', is_multiple=True), LinkStore(link='UCLA_DiR1FfKNvjuUpBHmylQ', assumed_tags='science/physics/space__astronomy', formatter=None, compulsory_tags=['space', 'astronomy'], content_type='video', is_multiple=True), LinkStore(link='UCrMePiHCWG4Vwqv3t7W9EFg', assumed_tags='science/physics/space__astronomy', formatter=None, compulsory_tags=['science/physics/space__astronomy'], content_type='video', is_multiple=True), LinkStore(link='UCtI0Hodo5o5dUb67FeUjDeA', assumed_tags='science/physics/space__astronomy', formatter=None, compulsory_tags=['science/physics/space__astronomy'], content_type='video', is_multiple=True), LinkStore(link='UCEszlI8-W79IsU8LSAiRbDg', assumed_tags='science/physics/space__astronomy', formatter=None, compulsory_tags=['science/physics/space__astronomy'], content_type='video', is_multiple=True), LinkStore(link='UCdgpfQ5snGKcP-eqoVXI0pw', assumed_tags='science/physics/space__astronomy', formatter=None, compulsory_tags=['science/physics/space__astronomy'], content_type='video', is_multiple=True), LinkStore(link='UCj0V0aG4LcdHmdPJ7aTtSCQ', assumed_tags='health__fitness food__drink/cooking', formatter=None, compulsory_tags=['cooking'], content_type='video', is_multiple=True), LinkStore(link='UCc1eW4k9ultmXa5anz7ZKZA', assumed_tags='health__fitness food__drink/cooking', formatter=None, compulsory_tags=['health__fitness', 'food__drink/cooking'], content_type='video', is_multiple=True), LinkStore(link='UCpYCDpLxS2hUEmxeYgtc1wA', assumed_tags='hobbies__interests/paranormal misc/anomaly misc/weird misc/mystery', formatter=None, compulsory_tags=['paranormal'], content_type='video', is_multiple=True), LinkStore(link='UC-FbE4thIVKkcQe1aWrUTvw', assumed_tags='hobbies__interests/paranormal misc/anomaly misc/weird misc/mystery', formatter=None, compulsory_tags=['hobbies__interests/paranormal', 'misc/anomaly', 'misc/weird', 'misc/mystery'], content_type='video', is_multiple=True), LinkStore(link='UCja26BEv6YUHC2QLShBdt8w', assumed_tags='hobbies__interests/paranormal misc/anomaly misc/weird misc/mystery', formatter=None, compulsory_tags=['hobbies__interests/paranormal', 'misc/anomaly', 'misc/weird', 'misc/mystery'], content_type='video', is_multiple=True), LinkStore(link='UC7T8roVtC_3afWKTOGtLlBA', assumed_tags='hobbies__interests/arts__crafts/photography technology__computing/consumer_electronics/camera__photo_equipment', formatter=None, compulsory_tags=['hobbies__interests/arts__crafts/photography'], content_type='video', is_multiple=True), LinkStore(link='UCxCFQfO05RinX6x_r5VVuiA', assumed_tags='hobbies__interests/arts__crafts/photography technology__computing/consumer_electronics/camera__photo_equipment technology__computing/software/graphics__music__animations', formatter=None, compulsory_tags=['technology__computing/software/graphics__music__animations', 'hobbies__interests/arts__crafts/photography'], content_type='video', is_multiple=True), LinkStore(link='UCvs_Clo5c1u2hXwv0zEG6rw', assumed_tags='hobbies__interests/arts__crafts/photography technology__computing/software/graphics__music__animations style__fashion/celebs', formatter=None, compulsory_tags=['hobbies__interests/arts__crafts/photography', 'technology__computing/software/graphics__music__animations', 'style__fashion/celebs'], content_type='video', is_multiple=True), LinkStore(link='UC3DkFux8Iv-aYnTRWzwaiBA', assumed_tags='hobbies__interests/arts__crafts/photography technology__computing/software/graphics__music__animations technology__computing/consumer_electronics/camera__photo_equipment', formatter=None, compulsory_tags=[], content_type='video', is_multiple=True), LinkStore(link='UCknMR7NOY6ZKcVbyzOxQPhw', assumed_tags='hobbies__interests/arts__crafts/photography technology__computing/software/graphics__music__animations technology__computing/consumer_electronics/camera__photo_equipment', formatter=None, compulsory_tags=[], content_type='video', is_multiple=True), LinkStore(link='UCsXoO3GA7-9N5p6aEcSf9gA', assumed_tags='hobbies__interests.arts__crafts.photography technology__computing.software.graphics__music__animations technology__computing.consumer_electronics.camera__photo_equipment', formatter=None, compulsory_tags=[], content_type='video', is_multiple=True), LinkStore(link='UCXjB5CYw3yCS8soFozLhPFQ', assumed_tags='science.social_science.history', formatter=None, compulsory_tags=['science/social_science/history'], content_type='video', is_multiple=True), LinkStore(link='UC9MAhZQQd9egwWCxrwSIsJQ', assumed_tags='science.social_science.history society', formatter=None, compulsory_tags=[], content_type='video', is_multiple=True), LinkStore(link='UCiCPv2sV_D3FqMRzzUFA2Fg', assumed_tags='society.people.biography', formatter=None, compulsory_tags=[], content_type='video', is_multiple=True), LinkStore(link='UCC9JHVPm-4P5QDp9vk8EH-A', assumed_tags='science.social_science.history misc', formatter=None, compulsory_tags=[], content_type='video', is_multiple=True), LinkStore(link='UC88lvyJe7aHZmcvzvubDFRg', assumed_tags='science.social_science.history society.unrest__war society.people', formatter=None, compulsory_tags=[], content_type='video', is_multiple=True), LinkStore(link='UC510QYlOlKNyhy_zdQxnGYw', assumed_tags='science.social_science.history society.unrest__war society.people', formatter=None, compulsory_tags=[], content_type='video', is_multiple=True), LinkStore(link='UCuCuEKq1xuRA0dFQj1qg9-Q', assumed_tags='science.social_science.history society.unrest__war society.people', formatter=None, compulsory_tags=[], content_type='video', is_multiple=True), LinkStore(link='UCX4zdlh2wQXjk2KA_UAjO3w', assumed_tags='science.social_science.history society.culture society.people', formatter=None, compulsory_tags=[], content_type='video', is_multiple=True), LinkStore(link='UCn8zNIfYAQNdrFRrr8oibKw', assumed_tags='society.crime law__govt__politics misc', formatter=None, compulsory_tags=[], content_type='video', is_multiple=True), LinkStore(link='UCYJyrEdlwxUu7UwtFS6jA_Q', assumed_tags='science misc', formatter=None, compulsory_tags=[], content_type='video', is_multiple=True), LinkStore(link='UCzWQYUVCpZqtN93H8RR44Qw', assumed_tags='science misc society', formatter=None, compulsory_tags=[], content_type='video', is_multiple=True), LinkStore(link='UCftwRNsjfRo08xYE31tkiyw', assumed_tags='science misc society art__entertainment', formatter=None, compulsory_tags=[], content_type='video', is_multiple=True), LinkStore(link='UCphTF9wHwhCt-BzIq-s4V-g', assumed_tags='science misc', formatter=None, compulsory_tags=[], content_type='video', is_multiple=True), LinkStore(link='UCYO_jab_esuFRV4b17AJtAw', assumed_tags='science.mathematics misc.facts', formatter=None, compulsory_tags=[], content_type='video', is_multiple=True), LinkStore(link='UCWzHqTAp15MOdXigK_Na7Dw', assumed_tags='travel', formatter=None, compulsory_tags=[], content_type='video', is_multiple=True), LinkStore(link='UCcPVzEbEIv1GUl_c4owKuhg', assumed_tags='travel food__drink society', formatter=None, compulsory_tags=[], content_type='video', is_multiple=True), LinkStore(link='UCvK4bOhULCpmLabd2pDMtnA', assumed_tags='travel food__drink society', formatter=None, compulsory_tags=[], content_type='video', is_multiple=True), LinkStore(link='UCGeGhS_akOxBWQcSmje6B-w', assumed_tags='travel food__drink society', formatter=None, compulsory_tags=[], content_type='video', is_multiple=True), LinkStore(link='UCpbClyFMuJQJJH7skfiVeQg', assumed_tags='travel food__drink society', formatter=None, compulsory_tags=[], content_type='video', is_multiple=True), LinkStore(link='UCchgIh8Tc4sTmBfnMQ5pDdg', assumed_tags='travel food__drink society science.social_science.history', formatter=None, compulsory_tags=[], content_type='video', is_multiple=True), LinkStore(link='UCvuukuDwsTkpII4OjeDZ8FQ', assumed_tags='travel.adventure travel food__drink society science.social_science.history', formatter=None, compulsory_tags=[], content_type='video', is_multiple=True), LinkStore(link='UCXWMnd0AHkf-yE4747bj8hg', assumed_tags='misc.facts misc.weird', formatter=None, compulsory_tags=[], content_type='video', is_multiple=True), LinkStore(link='UCgbzclo4Mfy_D68w_Bm_xHg', assumed_tags='art__entertainment.movies__tv', formatter=None, compulsory_tags=[], content_type='video', is_multiple=True), LinkStore(link='UC2Eegs0TkCr-DWcztKO5AIw', assumed_tags='art__entertainment.movies__tv art__entertainment.celebrity_fan__gossip.bollywood', formatter=None, compulsory_tags=[], content_type='video', is_multiple=True), LinkStore(link='UChXRi2xTPZ8J5lznBNuMCOw', assumed_tags='health__fitness.exercise health__fitness food__drink.health_eating', formatter=None, compulsory_tags=[], content_type='video', is_multiple=True), LinkStore(link='UCPxMZIFE856tbTfdkdjzTSQ', assumed_tags='health__fitness.exercise health__fitness food__drink.health_eating health__fitness.mental_health', formatter=None, compulsory_tags=[], content_type='video', is_multiple=True), LinkStore(link='UCYC6Vcczj8v-Y5OgpEJTFBw', assumed_tags='health__fitness.exercise health__fitness food__drink.health_eating', formatter=None, compulsory_tags=[], content_type='video', is_multiple=True), LinkStore(link='UCjeDdgwverf8ZgMAaqY8F3Q', assumed_tags='health__fitness.exercise health__fitness food__drink.health_eating food__drink.cooking', formatter=None, compulsory_tags=[], content_type='video', is_multiple=True), LinkStore(link='UCKRpf_HZfpLwxuIgyeYnsVw', assumed_tags='health__fitness food__drink.health_eating food__drink.cooking', formatter=None, compulsory_tags=[], content_type='video', is_multiple=True), LinkStore(link='UCfgZUI8Q3TENuArpf_8Q9TA', assumed_tags='health__fitness food__drink.health_eating food__drink.cooking', formatter=None, compulsory_tags=[], content_type='video', is_multiple=True), LinkStore(link='UUCgMJGv4cQl8-q71AyFeFmtg', assumed_tags='art__entertainment.movies__tv.movies__series_trailers art__emtertainment.celebrity_fan__gossip', formatter=None, compulsory_tags=[], content_type='video', is_multiple=True), LinkStore(link='UCkTtNUjvPcSc50HyO7sBtxg', assumed_tags='art__entertainment.movies__tv.movies__series_trailers art__emtertainment.celebrity_fan__gossip', formatter=None, compulsory_tags=[], content_type='video', is_multiple=True), LinkStore(link='UCCZYoHdqAOXf8WK9oawMCPg', assumed_tags='food__drink.food food__drink.cooking food__drink.vegan__vegetarian', formatter=None, compulsory_tags=[], content_type='video', is_multiple=True), LinkStore(link='UCmoX4QULJ9MB00xW4coMiOw', assumed_tags='food__drink.food food__drink.cooking', formatter=None, compulsory_tags=[], content_type='video', is_multiple=True), LinkStore(link='UCPPIsrNlEkaFQBk-4uNkOaw', assumed_tags='food__drink.food food__drink.cooking', formatter=None, compulsory_tags=[], content_type='video', is_multiple=True), LinkStore(link='UCfwHP1M0AFSPqTdjzXhV0Zg', assumed_tags='food__drink.food food__drink.cooking', formatter=None, compulsory_tags=[], content_type='video', is_multiple=True), LinkStore(link='UCChqsCRFePrP2X897iQkyAA', assumed_tags='food__drink.food food__drink.cooking', formatter=None, compulsory_tags=[], content_type='video', is_multiple=True), LinkStore(link='UCEHCDn_BBnk3uTK1M64ptyw', assumed_tags='food__drink.food food__drink.cooking', formatter=None, compulsory_tags=[], content_type='video', is_multiple=True), LinkStore(link='UCthIcpK06l9bhi9ISgreocw', assumed_tags='food__drink.food food__drink.cooking', formatter=None, compulsory_tags=[], content_type='video', is_multiple=True), LinkStore(link='UCM4vLyVm4MPhS3o5o729Udg', assumed_tags='food__drink.food food__drink.cooking', formatter=None, compulsory_tags=[], content_type='video', is_multiple=True), LinkStore(link='UCE_125yu_QxOM0PXPOKj93w', assumed_tags='food__drink.food food__drink.food_allergy', formatter=None, compulsory_tags=[], content_type='video', is_multiple=True), LinkStore(link='UCg4_1iEPv3IlgTvJh2IZAjQ', assumed_tags='food__drink.food food__drink.food_allergy food__drink.cooking', formatter=None, compulsory_tags=[], content_type='video', is_multiple=True), LinkStore(link='UCjHEskdNIvQlCtKAJRH_QWQ', assumed_tags='food__drink.food food__drink.food_allergy food__drink.vegan__vegetarian travel', formatter=None, compulsory_tags=[], content_type='video', is_multiple=True)], formatter=None, watermarks=[], is_structured_aggregator=True, datetime_format='', is_third_party=True)"
      ]
     },
     "execution_count": 110,
     "metadata": {},
     "output_type": "execute_result"
    }
   ],
   "source": [
    "create_youtube_source(link=link, category=category)"
   ]
  },
  {
   "cell_type": "code",
   "execution_count": null,
   "metadata": {},
   "outputs": [],
   "source": []
  }
 ],
 "metadata": {
  "interpreter": {
   "hash": "fc4695c84e85804780b8ca7c62fe67c8a064dcefa37282ea9ee686c285be0f98"
  },
  "kernelspec": {
   "display_name": "Python 3 (ipykernel)",
   "language": "python",
   "name": "python3"
  },
  "language_info": {
   "codemirror_mode": {
    "name": "ipython",
    "version": 3
   },
   "file_extension": ".py",
   "mimetype": "text/x-python",
   "name": "python",
   "nbconvert_exporter": "python",
   "pygments_lexer": "ipython3",
   "version": "3.9.6"
  },
  "metadata": {
   "interpreter": {
    "hash": "009e665c79fbfc8313dad4bf6cdcdc4549aaea5605537677d74b0784ff1d5538"
   }
  }
 },
 "nbformat": 4,
 "nbformat_minor": 4
}
