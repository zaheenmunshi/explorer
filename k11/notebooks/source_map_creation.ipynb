{
 "cells": [
  {
   "cell_type": "code",
   "execution_count": 1,
   "metadata": {},
   "outputs": [],
   "source": [
    "from datetime import datetime\n",
    "from typing import Dict, List, Optional, Union\n",
    "from k11.models.models import SourceMap, Format, ContentType, LinkStore, ContainerFormat, XMLContainerFormat\n",
    "\n",
    "from secrets import token_urlsafe\n",
    "import pandas as pd\n",
    "from urllib.parse import urlparse\n",
    "from k11.vault import connection_handler\n",
    "from mongoengine import Q\n",
    "\n",
    "connection_handler.mount_mongo_engines()\n"
   ]
  },
  {
   "cell_type": "code",
   "execution_count": 2,
   "metadata": {},
   "outputs": [],
   "source": [
    "def create_map( name: str, home_link: str, formatter: str,links: List[Dict] = [], assumed_tags: str = '',\n",
    "                     compulsory_tags: List[str] = [], is_rss: bool = False, is_collection: bool = True,\n",
    "                     watermarks: List[str] = [], source_id: str = None, datetime_format: str=\"\", is_third_party: bool = False,\n",
    "                     source_locations=[]\n",
    "                      ):\n",
    "                      sm =  SourceMap(source_name=name, source_home_link=home_link,\n",
    "                      source_id=token_urlsafe(16) + \"_\"+ name.lower() if source_id is None else source_id, \n",
    "                      formatter=formatter, assumed_tags=assumed_tags.strip(), _links=links,\n",
    "                      compulsory_tags=compulsory_tags, is_collection=is_collection,\n",
    "                      is_rss=is_rss, watermarks=watermarks,\n",
    "                      datetime_format=datetime_format, is_third_party=is_third_party,\n",
    "                      source_locations=source_locations\n",
    "                      )\n",
    "                      sm.save()\n",
    "                      return sm"
   ]
  },
  {
   "cell_type": "code",
   "execution_count": 3,
   "metadata": {},
   "outputs": [],
   "source": [
    "def tag_formatter(tag:str) -> Union[str, None]:\n",
    "        return tag.replace(\"/\",\".\").replace(\" and \", \" \")"
   ]
  },
  {
   "cell_type": "code",
   "execution_count": 4,
   "metadata": {},
   "outputs": [],
   "source": [
    "def get_collection_selector(name, extras = [], defaults= {}):\n",
    "    _defaults = {\"sel\": \"xpath\", \"param\": \"text()\", \"type\": \"text\", \"parent\": name, \"is_multiple\": False, \"is_cdata\": False}\n",
    "    _defaults.update(defaults)\n",
    "    data = {}\n",
    "    for key in ['sel', 'param', 'parent', 'type', 'is_multiple', \"is_cdata\"] + extras:\n",
    "        value = input(f\"Please enter {key} value for {name}: \")\n",
    "        if value == \"\" or value == \" \" and key in _defaults:\n",
    "            data[key] = _defaults[key]\n",
    "        else:\n",
    "            data[key] = value\n",
    "            if isinstance(_defaults[key], bool):\n",
    "                data[key] = bool(value)\n",
    "    return data\n"
   ]
  },
  {
   "cell_type": "code",
   "execution_count": 5,
   "metadata": {},
   "outputs": [],
   "source": [
    "def is_quit_param(txt):\n",
    "    return txt.lower() == \"q\" or txt == \"\" or txt == \" \" or txt.lower() == \"quit\""
   ]
  },
  {
   "cell_type": "code",
   "execution_count": 6,
   "metadata": {},
   "outputs": [],
   "source": [
    "def _create_collection_format():\n",
    "    data = {}\n",
    "    # is_xml = input('Enter x for xml_collection_format or h for html_collection_format: ').lower() == 'x'\n",
    "    itertag = input('Enter itertag for this selector: ')\n",
    "    if itertag != '' or itertag != \" \":\n",
    "        data['itertag'] = itertag\n",
    "    data['title'] = get_collection_selector('title')\n",
    "    data['link'] = get_collection_selector('link')\n",
    "    data['creator'] = get_collection_selector('creator')\n",
    "    while True:\n",
    "        sec_act = input(\"Enter name for new selector or type 'q' quit for exiting: \")\n",
    "        if is_quit_param(sec_act):\n",
    "            break\n",
    "        else:\n",
    "            data[sec_act] = get_collection_selector(sec_act)\n",
    "    return data\n",
    "\n",
    "\n"
   ]
  },
  {
   "cell_type": "code",
   "execution_count": 7,
   "metadata": {},
   "outputs": [],
   "source": [
    "def create_collection_format(name, format_):\n",
    "    data = _create_collection_format()\n",
    "#     Format.objects(format_id=format_.format_id).update_one(**{f\"set__{name}\": data})\n",
    "    setattr(format_, name, data)\n",
    "    format_.save()\n",
    "    return format_.reload()\n"
   ]
  },
  {
   "cell_type": "code",
   "execution_count": 8,
   "metadata": {},
   "outputs": [],
   "source": [
    "def get_container_identity():\n",
    "    data = {}\n",
    "    data['param'] = input(\"Enter param for container identity: \")\n",
    "    data['is_multiple'] = input(\"Is this identity for multiple items y/n: \").lower() == \"y\"\n",
    "    data['content_type'] = input('Enter content-type for the identity a for article, i for image, v for video: ')\n",
    "    cmap = {'a': 'article', 'i': 'image', 'v': 'video'}\n",
    "    data['content_type'] = cmap[data['content_type']] if data['content_type'] != \"\" else cmap['a']\n",
    "    data['is_bakeable'] = input('Is this identity contains multiple articles y/n: ').lower() == \"y\"\n",
    "    title_selectors = []\n",
    "    while True:\n",
    "        action = input('Enter title selector or \"q\" for quit: ')\n",
    "        if is_quit_param(action):\n",
    "            break\n",
    "        else:\n",
    "            title_selectors.append(action)\n",
    "    creator_selectors = []\n",
    "    while True:\n",
    "        action = input('Enter creator selector or \"q\" for quit: ')\n",
    "        if is_quit_param(action):\n",
    "            break\n",
    "        else:\n",
    "            creator_selectors.append(action)\n",
    "    body_selectors = []\n",
    "    while True:\n",
    "        action = input('Enter body selector or \"q\" for quit: ')\n",
    "        if is_quit_param(action):\n",
    "            break\n",
    "        else:\n",
    "            body_selectors.append(action)\n",
    "    return data, title_selectors, creator_selectors, body_selectors"
   ]
  },
  {
   "cell_type": "code",
   "execution_count": 9,
   "metadata": {},
   "outputs": [],
   "source": [
    "def get_query_selector():\n",
    "    data = {}\n",
    "    for key in ['tag', 'id', 'class_list', 'exact_class']:\n",
    "        value = input(f'Enter {key} for query: ')\n",
    "        if key == \"class_list\" and len(value) > 0:\n",
    "            data[key] = value.split(\" \")\n",
    "        elif len(value) > 0 and value != \" \":\n",
    "            data[key] = value\n",
    "    return data\n"
   ]
  },
  {
   "cell_type": "code",
   "execution_count": 10,
   "metadata": {},
   "outputs": [],
   "source": [
    "def _create_container_format():\n",
    "    data = {}\n",
    "    data['idens'] = []\n",
    "    data['title_selectors'] = []\n",
    "    data['creator_selectors'] = []\n",
    "    data['body_selectors'] = []\n",
    "    data['ignorables'] = []\n",
    "    while True:\n",
    "        action = input('Enter a for adding new identity, q for quit: ')\n",
    "        if is_quit_param(action):\n",
    "            break\n",
    "        iden, title_selectors, creator_selectors, body_selectors = get_container_identity()\n",
    "        data['title_selectors'] += title_selectors\n",
    "        data['creator_selectors'] += creator_selectors\n",
    "        data['body_selectors'] += body_selectors\n",
    "        while True:\n",
    "            action = input('Enter a for adding new ignorable, q for quit: ')\n",
    "            if is_quit_param(action):\n",
    "                break\n",
    "            else:\n",
    "                data['ignorables'].append(get_query_selector())\n",
    "        data['idens'].append(iden)\n",
    "    data['title_selectors'] = list(set(data['title_selectors']))\n",
    "    data['creator_selectors'] = list(set(data['creator_selectors']))\n",
    "    data['body_selectors'] = list(set(data['body_selectors']))\n",
    "    return data\n",
    "    \n",
    "\n"
   ]
  },
  {
   "cell_type": "code",
   "execution_count": 11,
   "metadata": {},
   "outputs": [],
   "source": [
    "def create_html_container_format(format_):\n",
    "    data = _create_container_format()\n",
    "    format_._html_article_format = data\n",
    "    format_.save()\n",
    "    return format_\n",
    "\n"
   ]
  },
  {
   "cell_type": "code",
   "execution_count": null,
   "metadata": {},
   "outputs": [],
   "source": []
  },
  {
   "cell_type": "code",
   "execution_count": 12,
   "metadata": {},
   "outputs": [],
   "source": [
    "def create_extra_format(format_):\n",
    "    extra_format = {}\n",
    "    if hasattr(format_, \"extra_formats\") and format_.extra_formats is not None:\n",
    "        extra_format = format_.extra_formats\n",
    "    while True:\n",
    "        action = input('Enter c for adding new collection format and a for adding article format, q for quit: ')\n",
    "        if is_quit_param(action):\n",
    "            break\n",
    "        else:\n",
    "            name = input(\"Enter name for the format: \")\n",
    "            if is_quit_param(name):\n",
    "                break\n",
    "            if action.lower() == \"c\":\n",
    "                data = _create_collection_format()\n",
    "                extra_format[name] = data\n",
    "            elif action.lower() == \"a\":\n",
    "                data = _create_container_format()\n",
    "                extra_format[name] = data\n",
    "#     Format.objects(format_id=format_.format_id).update_one(extra_formats= extra_format)\n",
    "    format_.extra_formats = extra_format\n",
    "    format_.save()\n",
    "    return format_.reload()\n",
    "\n",
    "                \n"
   ]
  },
  {
   "cell_type": "code",
   "execution_count": 13,
   "metadata": {},
   "outputs": [],
   "source": [
    "def create_xml_container_format(format_):\n",
    "    data = {}\n",
    "    ct = input('Enter content-type for format a for article, i for image, v for video: ')\n",
    "    cmap = {\"a\": \"article\", \"i\": \"image\", \"v\": \"video\"}\n",
    "    data['content_type'] = cmap[ct] if ct != \"\" or ct != \" \" else cmap['a']\n",
    "    data['struct']= _create_container_format()\n",
    "#     Format.objects(format_id=format_.format_id).update_one(xml_article_format=data)\n",
    "    format_._xml_article_format = data\n",
    "    format_.save()\n",
    "    return format_.reload()\n"
   ]
  },
  {
   "cell_type": "code",
   "execution_count": 14,
   "metadata": {},
   "outputs": [],
   "source": [
    "def create_format( **kwargs ):\n",
    "    fm = Format(**kwargs)\n",
    "    fm.save()\n",
    "    return fm"
   ]
  },
  {
   "cell_type": "code",
   "execution_count": 15,
   "metadata": {},
   "outputs": [],
   "source": [
    "# create_format(source_name=\"asnfjd\", format_id=\"sadfhjksgh\", source_home_link=\"dsfjhkfjdg\", \n",
    "# xml_article_format = XMLContainerFormat(struct=None, content_type=None),\n",
    "# html_article_format = ContainerFormat(idens=[]) )"
   ]
  },
  {
   "cell_type": "code",
   "execution_count": 16,
   "metadata": {},
   "outputs": [],
   "source": [
    "def print_all_formats(format_):\n",
    "    keys = ['xml_collection_format', 'html_collection_format', 'html_article_format', 'xml_article_format']\n",
    "    format_keys= [] \n",
    "    for key in keys:\n",
    "        if hasattr(format_, key) and getattr(format_, key) is not None:\n",
    "            format_keys.append(key)\n",
    "    if hasattr(format_, \"extra_formats\") and format_.extra_formats is not None:\n",
    "        format_keys += list(format_.extra_formats.keys())\n",
    "    for index, key in enumerate(format_keys):\n",
    "        print(index, \". \", key,\"\\n\")\n",
    "    print(\"\\n\"*2)\n",
    "    return format_keys\n"
   ]
  },
  {
   "cell_type": "code",
   "execution_count": 17,
   "metadata": {},
   "outputs": [],
   "source": [
    "def interactive_format_prompt(source_name, source_id, source_home_link, formatter = None):\n",
    "    formats = Format.objects(source_home_link= source_home_link)\n",
    "    if formats.count() == 0:\n",
    "        format_ = create_format(source_name=source_name, format_id=source_id, source_home_link=source_home_link)\n",
    "    else:\n",
    "        format_ = formats.get()\n",
    "    while True:\n",
    "        keys = print_all_formats(format_)\n",
    "        kmap = {'xml_collection_format': 'xc', 'html_collection_format': 'hc', 'html_article_format': 'ha', 'xml_article_format': 'xa', 'extra_formats': 'e'}\n",
    "        prompt = \"Please press \"\n",
    "        for key in kmap.keys():\n",
    "            if key not in keys:\n",
    "                prompt += f\"{kmap[key]} for {key}, \"\n",
    "        prompt +=\", 'q' for quit: \"\n",
    "        action = input(prompt)\n",
    "        if is_quit_param(action):\n",
    "            break\n",
    "        elif action.lower() == 'xc':\n",
    "            format_ = create_collection_format('xml_collection_format', format_)\n",
    "        elif action.lower() == 'hc':\n",
    "            format_ = create_collection_format('html_collection_format', format_)\n",
    "        elif action.lower() == 'ha':\n",
    "            format_ = create_html_container_format(format_)\n",
    "        elif action.lower() == 'xa':\n",
    "            format_ = create_xml_container_format(format_)\n",
    "        elif action.lower() == 'e':\n",
    "            format_ = create_extra_format(format_)\n",
    "    keys = print_all_formats(format_)\n",
    "    action = input(\"Enter index number for selecting the formatter, or q for quit: \")\n",
    "    ask_for_default_formatter = input('Do you want to set this formatter as default for source y/n: ').lower() == \"y\"\n",
    "    if ( not is_quit_param(action)) and action.isdigit():\n",
    "        formatter = keys[int(action)]        \n",
    "    return formatter, ask_for_default_formatter\n",
    "\n",
    "    \n",
    "    \n",
    "    \n",
    "    \n",
    "        \n",
    "\n",
    "    \n",
    "    \n"
   ]
  },
  {
   "cell_type": "code",
   "execution_count": null,
   "metadata": {},
   "outputs": [],
   "source": []
  },
  {
   "cell_type": "code",
   "execution_count": 18,
   "metadata": {},
   "outputs": [],
   "source": [
    "def _create_source_map(category, source_name, link, rss = 'FALSE', third_party_rss=False, wild_card_link:bool = False):\n",
    "    is_rss = rss is not None and len(rss) > 0 and rss.upper() != \"FALSE\"\n",
    "    url = rss if is_rss else link\n",
    "    assumed_tags=  tag_formatter(category)\n",
    "    compulsory_tags = input(\"Enter compulsory tags for \\n\" + url)\n",
    "    compulsory_tags = tag_formatter(compulsory_tags)\n",
    "    if compulsory_tags == \"q\":\n",
    "        return None\n",
    "    compulsory_tags = compulsory_tags.split(\" \")\n",
    "    watermarks = input(\"Enter watermarks for \\n\" + url).split(\" \")\n",
    "    content_type = input(\"Content type of this url a for articles, i for images and v for videos: \")\n",
    "    is_link_multiple = input(\"is link contains articles directly y/n: \").lower() == \"y\"\n",
    "    if content_type == \"i\":\n",
    "        content_type = ContentType.Image\n",
    "    elif content_type == \"v\":\n",
    "        content_type = ContentType.Video\n",
    "    else:\n",
    "        content_type = ContentType.Article\n",
    "    home_url = link if is_rss and third_party_rss else url\n",
    "    url_parse = urlparse(home_url)\n",
    "    source_home_link = url_parse.scheme +\"://\" + url_parse.netloc\n",
    "    source_maps = SourceMap.objects(Q(source_home_link=source_home_link) & Q(is_rss=is_rss))\n",
    "    if source_maps.count() > 0:\n",
    "        source_map = source_maps.first()\n",
    "    else:\n",
    "        source_map = None\n",
    "\n",
    "    source_map_compulsory_tags = source_map.compulsory_tags if source_map is not None and source_map.compulsory_tags is not None else []\n",
    "    source_map_assumed_tags = source_map.assumed_tags if source_map is not None and source_map.assumed_tags is not None else \"\"\n",
    "    source_map_assumed_tags += \" \" + assumed_tags\n",
    "    source_map_watermarks = source_map.watermarks if source_map is not None and source_map.watermarks is not None else []\n",
    "    source_map_watermarks += watermarks\n",
    "\n",
    "    if len(compulsory_tags) > 0:\n",
    "            compulsory_tags_action = input(\"Enter a for append, r for replace and l for leave: \")\n",
    "            if compulsory_tags_action.lower() == \"a\":\n",
    "                source_map_compulsory_tags += compulsory_tags\n",
    "                source_map_compulsory_tags = list(set(source_map_compulsory_tags))\n",
    "            elif compulsory_tags_action.lower() == \"r\":\n",
    "                source_map_compulsory_tags = compulsory_tags\n",
    "    if source_map is None:\n",
    "            is_collection = input(\"Is the source a collection y/n: \").lower() == \"y\"\n",
    "            source_locs = input(\"Enter source locations. \")\n",
    "            source_map = create_map(name=source_name, source_id=token_urlsafe(16)+ \"_\" + source_name.lower(),\n",
    "                                        formatter=None,assumed_tags=source_map_assumed_tags, compulsory_tags=source_map_compulsory_tags,\n",
    "                                        home_link=source_home_link, watermarks=source_map_watermarks, is_rss=is_rss,is_collection=is_collection,\n",
    "                                        source_locations=source_locs.split(\" \")            \n",
    "            )\n",
    "    formatter, is_update_default_formatter = interactive_format_prompt(source_map.source_name, source_map.source_id, source_map.source_home_link, formatter=source_map.formatter)\n",
    "    if is_update_default_formatter:\n",
    "#         SourceMap.objects(source_id=source_map.source_id).update_one(set__formatter= formatter)\n",
    "        source_map.formatter = formatter\n",
    "    if source_map.links is None:\n",
    "        source_map._links = []\n",
    "    source_map._links.append(LinkStore(link=url, assumed_tags=assumed_tags,\n",
    "                                     compulsory_tags=compulsory_tags if len(compulsory_tags) == 0 else None,\n",
    "                                     content_type=content_type,\n",
    "                                     is_multiple=is_link_multiple,\n",
    "                                     formatter=formatter))\n",
    "    source_map._links=[link.to_dict() for link in source_map.links]\n",
    "    source_map.compulsory_tags=list(set(source_map_compulsory_tags))\n",
    "    source_map.save()\n",
    "    return source_map.reload() \n",
    "\n",
    "    \n",
    "    \n",
    "    "
   ]
  },
  {
   "cell_type": "code",
   "execution_count": 19,
   "metadata": {},
   "outputs": [
    {
     "ename": "Exception",
     "evalue": "",
     "output_type": "error",
     "traceback": [
      "\u001b[0;31m---------------------------------------------------------------------------\u001b[0m",
      "\u001b[0;31mException\u001b[0m                                 Traceback (most recent call last)",
      "\u001b[0;32m/tmp/ipykernel_427709/3934906571.py\u001b[0m in \u001b[0;36m<module>\u001b[0;34m\u001b[0m\n\u001b[0;32m----> 1\u001b[0;31m \u001b[0;32mraise\u001b[0m  \u001b[0mException\u001b[0m\u001b[0;34m(\u001b[0m\u001b[0;34m)\u001b[0m\u001b[0;34m\u001b[0m\u001b[0;34m\u001b[0m\u001b[0m\n\u001b[0m",
      "\u001b[0;31mException\u001b[0m: "
     ]
    }
   ],
   "source": [
    "raise  Exception()"
   ]
  },
  {
   "cell_type": "code",
   "execution_count": 20,
   "metadata": {},
   "outputs": [],
   "source": [
    "# category = \"womens_fashion celebirity_fashion__contest\"\n",
    "category = \"space_technology__astronomy\"\n",
    "source_name=\"Sky And Telescope\"\n",
    "link = \"https://www.vogue.in/horoscope/\"\n",
    "rss=\"https://skyandtelescope.org/astronomy-news/feed/\"\n",
    "third_party = False"
   ]
  },
  {
   "cell_type": "code",
   "execution_count": null,
   "metadata": {},
   "outputs": [
    {
     "name": "stdout",
     "output_type": "stream",
     "text": [
      "Enter compulsory tags for \n",
      "https://skyandtelescope.org/astronomy-news/feed/\n",
      "Enter watermarks for \n",
      "https://skyandtelescope.org/astronomy-news/feed/\n",
      "Content type of this url a for articles, i for images and v for videos: a\n",
      "is link contains articles directly y/n: n\n",
      "Enter a for append, r for replace and l for leave: r\n",
      "Is the source a collection y/n: y\n",
      "Enter source locations. US\n",
      "0 .  xml_collection_format \n",
      "\n",
      "1 .  html_collection_format \n",
      "\n",
      "\n",
      "\n",
      "\n",
      "Please press ha for html_article_format, xa for xml_article_format, e for extra_formats, , 'q' for quit: xc\n",
      "Enter itertag for this selector: item\n",
      "Please enter sel value for title: \n",
      "Please enter param value for title: \n",
      "Please enter parent value for title: \n",
      "Please enter type value for title: \n",
      "Please enter is_multiple value for title: \n",
      "Please enter is_cdata value for title: \n",
      "Please enter sel value for link: \n",
      "Please enter param value for link: \n",
      "Please enter parent value for link: \n",
      "Please enter type value for link: \n",
      "Please enter is_multiple value for link: \n",
      "Please enter is_cdata value for link: \n",
      "Please enter sel value for creator: \n",
      "Please enter param value for creator: text()\n",
      "Please enter parent value for creator: dc:creator\n",
      "Please enter type value for creator: \n",
      "Please enter is_multiple value for creator: \n",
      "Please enter is_cdata value for creator: True\n",
      "Enter name for new selector or type 'q' quit for exiting: pub_date\n",
      "Please enter sel value for pub_date: \n",
      "Please enter param value for pub_date: text()\n"
     ]
    }
   ],
   "source": [
    "_create_source_map(category=category, source_name=source_name, link=link, rss=rss\n",
    "                   , third_party_rss=third_party)"
   ]
  },
  {
   "cell_type": "code",
   "execution_count": null,
   "metadata": {},
   "outputs": [],
   "source": []
  },
  {
   "cell_type": "code",
   "execution_count": null,
   "metadata": {},
   "outputs": [],
   "source": [
    "raise Exception()"
   ]
  },
  {
   "cell_type": "code",
   "execution_count": null,
   "metadata": {},
   "outputs": [],
   "source": []
  },
  {
   "cell_type": "code",
   "execution_count": 117,
   "metadata": {},
   "outputs": [],
   "source": [
    "def create_youtube_source(link, category):\n",
    "    url = urlparse(link)\n",
    "    channel_id = url.path.replace(\"/channel\",\"\").replace(\"/videos\", \"\").replace(\"/\",\"\")\n",
    "    youtube_sources = SourceMap.objects(Q(source_id= \"youtube\") &Q(is_third_party= True))\n",
    "    if not (youtube_sources.count() > 0):\n",
    "        youtube_source = SourceMap.objects.insert([SourceMap(source_name=\"YouTube\", source_id=\"youtube\", source_home_link=\"https://www.youtube.com/\", is_third_party=True, is_collection=False, is_rss=False, links=[], formatter=None, assumed_tags=\"\", compulsory_tags=[])])\n",
    "    else:\n",
    "        youtube_source = youtube_sources.get()\n",
    "    assumed_tags = category\n",
    "    compulsory_tags = input(\"Enter compulsory tags \")\n",
    "    if compulsory_tags == \"\":\n",
    "        compulsory_tags = []\n",
    "    else:\n",
    "        compulsory_tags = compulsory_tags.split(\" \")\n",
    "    ctag_action = input(\"Press a for append, r for replace and l for leave, for action on compulsory_tags\")\n",
    "    if ctag_action.lower() == \"a\":\n",
    "        youtube_source.compulsory_tags += compulsory_tags\n",
    "    elif ctag_action.lower() == \"r\":\n",
    "        youtube_source.compulsory_tags = compulsory_tags\n",
    "    link_store = LinkStore(link=channel_id, assumed_tags=tag_formatter(assumed_tags), content_type=ContentType.Video, is_multiple=True, compulsory_tags=compulsory_tags)\n",
    "    youtube_source._links.append(link_store.to_dict())\n",
    "    youtube_source.compulsory_tags = list(set(youtube_source.compulsory_tags))\n",
    "    youtube_source.save()\n",
    "    return youtube_source\n",
    "\n",
    "\n",
    "\n",
    "\n",
    "\n"
   ]
  },
  {
   "cell_type": "code",
   "execution_count": 118,
   "metadata": {},
   "outputs": [],
   "source": [
    "category = \"celebirity_fashion__contest celebrity__gossips\"\n",
    "# c_id = \"UCg4_1iEPv3IlgTvJh2IZAjQ\"\n",
    "link = f\"UCkxP6nWL35Yq6QEjiwWBITw\""
   ]
  },
  {
   "cell_type": "code",
   "execution_count": 119,
   "metadata": {},
   "outputs": [
    {
     "name": "stdout",
     "output_type": "stream",
     "text": [
      "Enter compulsory tags \n",
      "Press a for append, r for replace and l for leave, for action on compulsory_tagsa\n"
     ]
    },
    {
     "data": {
      "text/plain": [
       "<SourceMap: SourceMap object>"
      ]
     },
     "execution_count": 119,
     "metadata": {},
     "output_type": "execute_result"
    }
   ],
   "source": [
    "create_youtube_source(link=link, category=category)"
   ]
  },
  {
   "cell_type": "code",
   "execution_count": null,
   "metadata": {},
   "outputs": [],
   "source": []
  }
 ],
 "metadata": {
  "interpreter": {
   "hash": "fc4695c84e85804780b8ca7c62fe67c8a064dcefa37282ea9ee686c285be0f98"
  },
  "kernelspec": {
   "display_name": "Python 3 (ipykernel)",
   "language": "python",
   "name": "python3"
  },
  "language_info": {
   "codemirror_mode": {
    "name": "ipython",
    "version": 3
   },
   "file_extension": ".py",
   "mimetype": "text/x-python",
   "name": "python",
   "nbconvert_exporter": "python",
   "pygments_lexer": "ipython3",
   "version": "3.9.6"
  },
  "metadata": {
   "interpreter": {
    "hash": "009e665c79fbfc8313dad4bf6cdcdc4549aaea5605537677d74b0784ff1d5538"
   }
  }
 },
 "nbformat": 4,
 "nbformat_minor": 4
}
